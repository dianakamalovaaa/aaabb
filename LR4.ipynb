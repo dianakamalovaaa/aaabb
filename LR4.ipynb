{
 "cells": [
  {
   "cell_type": "code",
   "execution_count": 1,
   "metadata": {},
   "outputs": [],
   "source": [
    "import pandas as pd\n",
    "import matplotlib.pyplot as plt"
   ]
  },
  {
   "cell_type": "code",
   "execution_count": 2,
   "metadata": {},
   "outputs": [
    {
     "data": {
      "text/html": [
       "<div>\n",
       "<style scoped>\n",
       "    .dataframe tbody tr th:only-of-type {\n",
       "        vertical-align: middle;\n",
       "    }\n",
       "\n",
       "    .dataframe tbody tr th {\n",
       "        vertical-align: top;\n",
       "    }\n",
       "\n",
       "    .dataframe thead th {\n",
       "        text-align: right;\n",
       "    }\n",
       "</style>\n",
       "<table border=\"1\" class=\"dataframe\">\n",
       "  <thead>\n",
       "    <tr style=\"text-align: right;\">\n",
       "      <th></th>\n",
       "      <th>Unnamed: 0</th>\n",
       "      <th>country</th>\n",
       "      <th>description</th>\n",
       "      <th>designation</th>\n",
       "      <th>points</th>\n",
       "      <th>price</th>\n",
       "      <th>province</th>\n",
       "      <th>region_1</th>\n",
       "      <th>region_2</th>\n",
       "      <th>variety</th>\n",
       "      <th>winery</th>\n",
       "    </tr>\n",
       "  </thead>\n",
       "  <tbody>\n",
       "    <tr>\n",
       "      <th>0</th>\n",
       "      <td>0</td>\n",
       "      <td>US</td>\n",
       "      <td>This tremendous 100% varietal wine hails from ...</td>\n",
       "      <td>Martha's Vineyard</td>\n",
       "      <td>96</td>\n",
       "      <td>235.0</td>\n",
       "      <td>California</td>\n",
       "      <td>Napa Valley</td>\n",
       "      <td>Napa</td>\n",
       "      <td>Cabernet Sauvignon</td>\n",
       "      <td>Heitz</td>\n",
       "    </tr>\n",
       "    <tr>\n",
       "      <th>1</th>\n",
       "      <td>1</td>\n",
       "      <td>Spain</td>\n",
       "      <td>Ripe aromas of fig, blackberry and cassis are ...</td>\n",
       "      <td>Carodorum Selección Especial Reserva</td>\n",
       "      <td>96</td>\n",
       "      <td>110.0</td>\n",
       "      <td>Northern Spain</td>\n",
       "      <td>Toro</td>\n",
       "      <td>NaN</td>\n",
       "      <td>Tinta de Toro</td>\n",
       "      <td>Bodega Carmen Rodríguez</td>\n",
       "    </tr>\n",
       "    <tr>\n",
       "      <th>2</th>\n",
       "      <td>2</td>\n",
       "      <td>US</td>\n",
       "      <td>Mac Watson honors the memory of a wine once ma...</td>\n",
       "      <td>Special Selected Late Harvest</td>\n",
       "      <td>96</td>\n",
       "      <td>90.0</td>\n",
       "      <td>California</td>\n",
       "      <td>Knights Valley</td>\n",
       "      <td>Sonoma</td>\n",
       "      <td>Sauvignon Blanc</td>\n",
       "      <td>Macauley</td>\n",
       "    </tr>\n",
       "    <tr>\n",
       "      <th>3</th>\n",
       "      <td>3</td>\n",
       "      <td>US</td>\n",
       "      <td>This spent 20 months in 30% new French oak, an...</td>\n",
       "      <td>Reserve</td>\n",
       "      <td>96</td>\n",
       "      <td>65.0</td>\n",
       "      <td>Oregon</td>\n",
       "      <td>Willamette Valley</td>\n",
       "      <td>Willamette Valley</td>\n",
       "      <td>Pinot Noir</td>\n",
       "      <td>Ponzi</td>\n",
       "    </tr>\n",
       "    <tr>\n",
       "      <th>4</th>\n",
       "      <td>4</td>\n",
       "      <td>France</td>\n",
       "      <td>This is the top wine from La Bégude, named aft...</td>\n",
       "      <td>La Brûlade</td>\n",
       "      <td>95</td>\n",
       "      <td>66.0</td>\n",
       "      <td>Provence</td>\n",
       "      <td>Bandol</td>\n",
       "      <td>NaN</td>\n",
       "      <td>Provence red blend</td>\n",
       "      <td>Domaine de la Bégude</td>\n",
       "    </tr>\n",
       "  </tbody>\n",
       "</table>\n",
       "</div>"
      ],
      "text/plain": [
       "   Unnamed: 0 country                                        description  \\\n",
       "0           0      US  This tremendous 100% varietal wine hails from ...   \n",
       "1           1   Spain  Ripe aromas of fig, blackberry and cassis are ...   \n",
       "2           2      US  Mac Watson honors the memory of a wine once ma...   \n",
       "3           3      US  This spent 20 months in 30% new French oak, an...   \n",
       "4           4  France  This is the top wine from La Bégude, named aft...   \n",
       "\n",
       "                            designation  points  price        province  \\\n",
       "0                     Martha's Vineyard      96  235.0      California   \n",
       "1  Carodorum Selección Especial Reserva      96  110.0  Northern Spain   \n",
       "2         Special Selected Late Harvest      96   90.0      California   \n",
       "3                               Reserve      96   65.0          Oregon   \n",
       "4                            La Brûlade      95   66.0        Provence   \n",
       "\n",
       "            region_1           region_2             variety  \\\n",
       "0        Napa Valley               Napa  Cabernet Sauvignon   \n",
       "1               Toro                NaN       Tinta de Toro   \n",
       "2     Knights Valley             Sonoma     Sauvignon Blanc   \n",
       "3  Willamette Valley  Willamette Valley          Pinot Noir   \n",
       "4             Bandol                NaN  Provence red blend   \n",
       "\n",
       "                    winery  \n",
       "0                    Heitz  \n",
       "1  Bodega Carmen Rodríguez  \n",
       "2                 Macauley  \n",
       "3                    Ponzi  \n",
       "4     Domaine de la Bégude  "
      ]
     },
     "execution_count": 2,
     "metadata": {},
     "output_type": "execute_result"
    }
   ],
   "source": [
    "w = pd.read_csv('winemag-data_first150k.csv')\n",
    "w.head()"
   ]
  },
  {
   "cell_type": "code",
   "execution_count": 6,
   "metadata": {},
   "outputs": [
    {
     "data": {
      "text/html": [
       "<div>\n",
       "<style scoped>\n",
       "    .dataframe tbody tr th:only-of-type {\n",
       "        vertical-align: middle;\n",
       "    }\n",
       "\n",
       "    .dataframe tbody tr th {\n",
       "        vertical-align: top;\n",
       "    }\n",
       "\n",
       "    .dataframe thead th {\n",
       "        text-align: right;\n",
       "    }\n",
       "</style>\n",
       "<table border=\"1\" class=\"dataframe\">\n",
       "  <thead>\n",
       "    <tr style=\"text-align: right;\">\n",
       "      <th></th>\n",
       "      <th>Unnamed: 0</th>\n",
       "      <th>country</th>\n",
       "      <th>description</th>\n",
       "      <th>designation</th>\n",
       "      <th>points</th>\n",
       "      <th>price</th>\n",
       "      <th>province</th>\n",
       "      <th>region_1</th>\n",
       "      <th>region_2</th>\n",
       "      <th>variety</th>\n",
       "      <th>winery</th>\n",
       "    </tr>\n",
       "  </thead>\n",
       "  <tbody>\n",
       "    <tr>\n",
       "      <th>2453</th>\n",
       "      <td>2453</td>\n",
       "      <td>Spain</td>\n",
       "      <td>This single-vineyard Carignan is living proof ...</td>\n",
       "      <td>El Perer</td>\n",
       "      <td>96</td>\n",
       "      <td>770.0</td>\n",
       "      <td>Catalonia</td>\n",
       "      <td>Priorat</td>\n",
       "      <td>NaN</td>\n",
       "      <td>Carignan</td>\n",
       "      <td>Marco Abella</td>\n",
       "    </tr>\n",
       "    <tr>\n",
       "      <th>85603</th>\n",
       "      <td>85603</td>\n",
       "      <td>Spain</td>\n",
       "      <td>Toasty and black as midnight on the nose, this...</td>\n",
       "      <td>Figuero Tinus</td>\n",
       "      <td>93</td>\n",
       "      <td>599.0</td>\n",
       "      <td>Northern Spain</td>\n",
       "      <td>Ribera del Duero</td>\n",
       "      <td>NaN</td>\n",
       "      <td>Tempranillo</td>\n",
       "      <td>García Figuero</td>\n",
       "    </tr>\n",
       "    <tr>\n",
       "      <th>7691</th>\n",
       "      <td>7691</td>\n",
       "      <td>Spain</td>\n",
       "      <td>Name and reputation get you only so far, as th...</td>\n",
       "      <td>Unico</td>\n",
       "      <td>89</td>\n",
       "      <td>500.0</td>\n",
       "      <td>Northern Spain</td>\n",
       "      <td>Ribera del Duero</td>\n",
       "      <td>NaN</td>\n",
       "      <td>Tempranillo-Cabernet Sauvignon</td>\n",
       "      <td>Vega Sicilia</td>\n",
       "    </tr>\n",
       "    <tr>\n",
       "      <th>10538</th>\n",
       "      <td>10538</td>\n",
       "      <td>Spain</td>\n",
       "      <td>Luscious prune and blackberry aromas come with...</td>\n",
       "      <td>Clon de la Familia</td>\n",
       "      <td>98</td>\n",
       "      <td>450.0</td>\n",
       "      <td>Northern Spain</td>\n",
       "      <td>Ribera del Duero</td>\n",
       "      <td>NaN</td>\n",
       "      <td>Tinto Fino</td>\n",
       "      <td>Emilio Moro</td>\n",
       "    </tr>\n",
       "    <tr>\n",
       "      <th>53472</th>\n",
       "      <td>53472</td>\n",
       "      <td>Spain</td>\n",
       "      <td>Hailing from the hottest vintage in years, thi...</td>\n",
       "      <td>Unico</td>\n",
       "      <td>91</td>\n",
       "      <td>450.0</td>\n",
       "      <td>Northern Spain</td>\n",
       "      <td>Ribera del Duero</td>\n",
       "      <td>NaN</td>\n",
       "      <td>Tempranillo Blend</td>\n",
       "      <td>Vega Sicilia</td>\n",
       "    </tr>\n",
       "    <tr>\n",
       "      <th>7299</th>\n",
       "      <td>7299</td>\n",
       "      <td>Spain</td>\n",
       "      <td>This is the granddaddy in the Emilio Moro port...</td>\n",
       "      <td>Clon de la Familia</td>\n",
       "      <td>93</td>\n",
       "      <td>450.0</td>\n",
       "      <td>Northern Spain</td>\n",
       "      <td>Ribera del Duero</td>\n",
       "      <td>NaN</td>\n",
       "      <td>Tinto Fino</td>\n",
       "      <td>Emilio Moro</td>\n",
       "    </tr>\n",
       "    <tr>\n",
       "      <th>140176</th>\n",
       "      <td>140176</td>\n",
       "      <td>Spain</td>\n",
       "      <td>Super pricey but this is a knock-your-socks-of...</td>\n",
       "      <td>L'Ermita</td>\n",
       "      <td>98</td>\n",
       "      <td>440.0</td>\n",
       "      <td>Catalonia</td>\n",
       "      <td>Priorat</td>\n",
       "      <td>NaN</td>\n",
       "      <td>Red Blend</td>\n",
       "      <td>Alvaro Palacios</td>\n",
       "    </tr>\n",
       "    <tr>\n",
       "      <th>142310</th>\n",
       "      <td>142310</td>\n",
       "      <td>Spain</td>\n",
       "      <td>Talk about a wine that's tight as a bank vault...</td>\n",
       "      <td>Pesus</td>\n",
       "      <td>95</td>\n",
       "      <td>395.0</td>\n",
       "      <td>Northern Spain</td>\n",
       "      <td>Ribera del Duero</td>\n",
       "      <td>NaN</td>\n",
       "      <td>Tinto del Pais</td>\n",
       "      <td>Viña Sastre</td>\n",
       "    </tr>\n",
       "    <tr>\n",
       "      <th>143612</th>\n",
       "      <td>143612</td>\n",
       "      <td>Spain</td>\n",
       "      <td>Never let the price tag dictate perceived qual...</td>\n",
       "      <td>NaN</td>\n",
       "      <td>81</td>\n",
       "      <td>354.0</td>\n",
       "      <td>Northern Spain</td>\n",
       "      <td>Rioja</td>\n",
       "      <td>NaN</td>\n",
       "      <td>Tempranillo</td>\n",
       "      <td>Contador</td>\n",
       "    </tr>\n",
       "    <tr>\n",
       "      <th>71042</th>\n",
       "      <td>71042</td>\n",
       "      <td>Spain</td>\n",
       "      <td>Never let the price tag dictate perceived qual...</td>\n",
       "      <td>NaN</td>\n",
       "      <td>81</td>\n",
       "      <td>354.0</td>\n",
       "      <td>Northern Spain</td>\n",
       "      <td>Rioja</td>\n",
       "      <td>NaN</td>\n",
       "      <td>Tempranillo</td>\n",
       "      <td>Contador</td>\n",
       "    </tr>\n",
       "    <tr>\n",
       "      <th>10600</th>\n",
       "      <td>10600</td>\n",
       "      <td>Spain</td>\n",
       "      <td>Everything about this stately Ribera heavyweig...</td>\n",
       "      <td>Tinus</td>\n",
       "      <td>96</td>\n",
       "      <td>351.0</td>\n",
       "      <td>Northern Spain</td>\n",
       "      <td>Ribera del Duero</td>\n",
       "      <td>NaN</td>\n",
       "      <td>Tempranillo</td>\n",
       "      <td>García Figuero</td>\n",
       "    </tr>\n",
       "    <tr>\n",
       "      <th>8443</th>\n",
       "      <td>8443</td>\n",
       "      <td>Spain</td>\n",
       "      <td>This single-vineyard Rioja is smooth, pure and...</td>\n",
       "      <td>Viña El Pison</td>\n",
       "      <td>94</td>\n",
       "      <td>350.0</td>\n",
       "      <td>Northern Spain</td>\n",
       "      <td>Rioja</td>\n",
       "      <td>NaN</td>\n",
       "      <td>Tempranillo Blend</td>\n",
       "      <td>Artadi</td>\n",
       "    </tr>\n",
       "    <tr>\n",
       "      <th>131737</th>\n",
       "      <td>131737</td>\n",
       "      <td>Spain</td>\n",
       "      <td>Hard to believe the price on this. Yes, it's a...</td>\n",
       "      <td>Prestigio Pago de las Solanas</td>\n",
       "      <td>88</td>\n",
       "      <td>325.0</td>\n",
       "      <td>Northern Spain</td>\n",
       "      <td>Ribera del Duero</td>\n",
       "      <td>NaN</td>\n",
       "      <td>Tempranillo</td>\n",
       "      <td>Matarromera</td>\n",
       "    </tr>\n",
       "    <tr>\n",
       "      <th>142307</th>\n",
       "      <td>142307</td>\n",
       "      <td>Spain</td>\n",
       "      <td>Who else but Vega holds wines for more than 10...</td>\n",
       "      <td>Unico Gran Reserva</td>\n",
       "      <td>95</td>\n",
       "      <td>325.0</td>\n",
       "      <td>Northern Spain</td>\n",
       "      <td>Ribera del Duero</td>\n",
       "      <td>NaN</td>\n",
       "      <td>Tempranillo Blend</td>\n",
       "      <td>Vega Sicilia</td>\n",
       "    </tr>\n",
       "    <tr>\n",
       "      <th>142565</th>\n",
       "      <td>142565</td>\n",
       "      <td>Spain</td>\n",
       "      <td>Huge and on the border of overwhelming. But if...</td>\n",
       "      <td>Pingus</td>\n",
       "      <td>94</td>\n",
       "      <td>320.0</td>\n",
       "      <td>Northern Spain</td>\n",
       "      <td>Ribera del Duero</td>\n",
       "      <td>NaN</td>\n",
       "      <td>Tinto del Pais</td>\n",
       "      <td>Dominio de Pingus</td>\n",
       "    </tr>\n",
       "    <tr>\n",
       "      <th>102560</th>\n",
       "      <td>102560</td>\n",
       "      <td>Spain</td>\n",
       "      <td>Jammy, creamy and superripe, with raspberry, b...</td>\n",
       "      <td>Cirsion</td>\n",
       "      <td>96</td>\n",
       "      <td>303.0</td>\n",
       "      <td>Northern Spain</td>\n",
       "      <td>Rioja</td>\n",
       "      <td>NaN</td>\n",
       "      <td>Tempranillo</td>\n",
       "      <td>Bodegas Roda</td>\n",
       "    </tr>\n",
       "    <tr>\n",
       "      <th>130250</th>\n",
       "      <td>130250</td>\n",
       "      <td>Spain</td>\n",
       "      <td>Jammy, creamy and superripe, with raspberry, b...</td>\n",
       "      <td>Cirsion</td>\n",
       "      <td>96</td>\n",
       "      <td>303.0</td>\n",
       "      <td>Northern Spain</td>\n",
       "      <td>Rioja</td>\n",
       "      <td>NaN</td>\n",
       "      <td>Tempranillo</td>\n",
       "      <td>Bodegas Roda</td>\n",
       "    </tr>\n",
       "    <tr>\n",
       "      <th>28618</th>\n",
       "      <td>28618</td>\n",
       "      <td>Spain</td>\n",
       "      <td>Charred, smoky aromas of blackberry are ripe a...</td>\n",
       "      <td>Viña el Pison</td>\n",
       "      <td>94</td>\n",
       "      <td>300.0</td>\n",
       "      <td>Northern Spain</td>\n",
       "      <td>Rioja</td>\n",
       "      <td>NaN</td>\n",
       "      <td>Tempranillo</td>\n",
       "      <td>Artadi</td>\n",
       "    </tr>\n",
       "    <tr>\n",
       "      <th>8446</th>\n",
       "      <td>8446</td>\n",
       "      <td>Spain</td>\n",
       "      <td>Ripe, muscular aromas of forest floor, blackbe...</td>\n",
       "      <td>Tinus</td>\n",
       "      <td>94</td>\n",
       "      <td>300.0</td>\n",
       "      <td>Northern Spain</td>\n",
       "      <td>Ribera del Duero</td>\n",
       "      <td>NaN</td>\n",
       "      <td>Tempranillo</td>\n",
       "      <td>García Figuero</td>\n",
       "    </tr>\n",
       "    <tr>\n",
       "      <th>132498</th>\n",
       "      <td>132498</td>\n",
       "      <td>Spain</td>\n",
       "      <td>Open-cut oak, blackberry and chocolate are the...</td>\n",
       "      <td>Prestigio Pago de las Solanas</td>\n",
       "      <td>89</td>\n",
       "      <td>300.0</td>\n",
       "      <td>Northern Spain</td>\n",
       "      <td>Ribera del Duero</td>\n",
       "      <td>NaN</td>\n",
       "      <td>Tinto del Pais</td>\n",
       "      <td>Matarromera</td>\n",
       "    </tr>\n",
       "  </tbody>\n",
       "</table>\n",
       "</div>"
      ],
      "text/plain": [
       "        Unnamed: 0 country                                        description  \\\n",
       "2453          2453   Spain  This single-vineyard Carignan is living proof ...   \n",
       "85603        85603   Spain  Toasty and black as midnight on the nose, this...   \n",
       "7691          7691   Spain  Name and reputation get you only so far, as th...   \n",
       "10538        10538   Spain  Luscious prune and blackberry aromas come with...   \n",
       "53472        53472   Spain  Hailing from the hottest vintage in years, thi...   \n",
       "7299          7299   Spain  This is the granddaddy in the Emilio Moro port...   \n",
       "140176      140176   Spain  Super pricey but this is a knock-your-socks-of...   \n",
       "142310      142310   Spain  Talk about a wine that's tight as a bank vault...   \n",
       "143612      143612   Spain  Never let the price tag dictate perceived qual...   \n",
       "71042        71042   Spain  Never let the price tag dictate perceived qual...   \n",
       "10600        10600   Spain  Everything about this stately Ribera heavyweig...   \n",
       "8443          8443   Spain  This single-vineyard Rioja is smooth, pure and...   \n",
       "131737      131737   Spain  Hard to believe the price on this. Yes, it's a...   \n",
       "142307      142307   Spain  Who else but Vega holds wines for more than 10...   \n",
       "142565      142565   Spain  Huge and on the border of overwhelming. But if...   \n",
       "102560      102560   Spain  Jammy, creamy and superripe, with raspberry, b...   \n",
       "130250      130250   Spain  Jammy, creamy and superripe, with raspberry, b...   \n",
       "28618        28618   Spain  Charred, smoky aromas of blackberry are ripe a...   \n",
       "8446          8446   Spain  Ripe, muscular aromas of forest floor, blackbe...   \n",
       "132498      132498   Spain  Open-cut oak, blackberry and chocolate are the...   \n",
       "\n",
       "                          designation  points  price        province  \\\n",
       "2453                         El Perer      96  770.0       Catalonia   \n",
       "85603                   Figuero Tinus      93  599.0  Northern Spain   \n",
       "7691                            Unico      89  500.0  Northern Spain   \n",
       "10538              Clon de la Familia      98  450.0  Northern Spain   \n",
       "53472                           Unico      91  450.0  Northern Spain   \n",
       "7299               Clon de la Familia      93  450.0  Northern Spain   \n",
       "140176                       L'Ermita      98  440.0       Catalonia   \n",
       "142310                          Pesus      95  395.0  Northern Spain   \n",
       "143612                            NaN      81  354.0  Northern Spain   \n",
       "71042                             NaN      81  354.0  Northern Spain   \n",
       "10600                           Tinus      96  351.0  Northern Spain   \n",
       "8443                    Viña El Pison      94  350.0  Northern Spain   \n",
       "131737  Prestigio Pago de las Solanas      88  325.0  Northern Spain   \n",
       "142307             Unico Gran Reserva      95  325.0  Northern Spain   \n",
       "142565                         Pingus      94  320.0  Northern Spain   \n",
       "102560                        Cirsion      96  303.0  Northern Spain   \n",
       "130250                        Cirsion      96  303.0  Northern Spain   \n",
       "28618                   Viña el Pison      94  300.0  Northern Spain   \n",
       "8446                            Tinus      94  300.0  Northern Spain   \n",
       "132498  Prestigio Pago de las Solanas      89  300.0  Northern Spain   \n",
       "\n",
       "                region_1 region_2                         variety  \\\n",
       "2453             Priorat      NaN                        Carignan   \n",
       "85603   Ribera del Duero      NaN                     Tempranillo   \n",
       "7691    Ribera del Duero      NaN  Tempranillo-Cabernet Sauvignon   \n",
       "10538   Ribera del Duero      NaN                      Tinto Fino   \n",
       "53472   Ribera del Duero      NaN               Tempranillo Blend   \n",
       "7299    Ribera del Duero      NaN                      Tinto Fino   \n",
       "140176           Priorat      NaN                       Red Blend   \n",
       "142310  Ribera del Duero      NaN                  Tinto del Pais   \n",
       "143612             Rioja      NaN                     Tempranillo   \n",
       "71042              Rioja      NaN                     Tempranillo   \n",
       "10600   Ribera del Duero      NaN                     Tempranillo   \n",
       "8443               Rioja      NaN               Tempranillo Blend   \n",
       "131737  Ribera del Duero      NaN                     Tempranillo   \n",
       "142307  Ribera del Duero      NaN               Tempranillo Blend   \n",
       "142565  Ribera del Duero      NaN                  Tinto del Pais   \n",
       "102560             Rioja      NaN                     Tempranillo   \n",
       "130250             Rioja      NaN                     Tempranillo   \n",
       "28618              Rioja      NaN                     Tempranillo   \n",
       "8446    Ribera del Duero      NaN                     Tempranillo   \n",
       "132498  Ribera del Duero      NaN                  Tinto del Pais   \n",
       "\n",
       "                   winery  \n",
       "2453         Marco Abella  \n",
       "85603      García Figuero  \n",
       "7691         Vega Sicilia  \n",
       "10538         Emilio Moro  \n",
       "53472        Vega Sicilia  \n",
       "7299          Emilio Moro  \n",
       "140176    Alvaro Palacios  \n",
       "142310        Viña Sastre  \n",
       "143612           Contador  \n",
       "71042            Contador  \n",
       "10600      García Figuero  \n",
       "8443               Artadi  \n",
       "131737        Matarromera  \n",
       "142307       Vega Sicilia  \n",
       "142565  Dominio de Pingus  \n",
       "102560       Bodegas Roda  \n",
       "130250       Bodegas Roda  \n",
       "28618              Artadi  \n",
       "8446       García Figuero  \n",
       "132498        Matarromera  "
      ]
     },
     "execution_count": 6,
     "metadata": {},
     "output_type": "execute_result"
    }
   ],
   "source": [
    "w_barh = w[w['country']=='Spain'].sort_values('price', ascending=False).head(20)\n",
    "w_barh"
   ]
  },
  {
   "cell_type": "code",
   "execution_count": 95,
   "metadata": {},
   "outputs": [
    {
     "data": {
      "text/plain": [
       "<BarContainer object of 20 artists>"
      ]
     },
     "execution_count": 95,
     "metadata": {},
     "output_type": "execute_result"
    },
    {
     "data": {
      "image/png": "[encoded data removed]",
      "text/plain": [
       "<Figure size 432x288 with 1 Axes>"
      ]
     },
     "metadata": {
      "needs_background": "light"
     },
     "output_type": "display_data"
    }
   ],
   "source": [
    "plt.barh(w_barh['winery'], w_barh['price'])"
   ]
  },
  {
   "cell_type": "code",
   "execution_count": 78,
   "metadata": {},
   "outputs": [
    {
     "data": {
      "image/png": "[encoded data removed]",
      "text/plain": [
       "<Figure size 432x288 with 1 Axes>"
      ]
     },
     "metadata": {
      "needs_background": "light"
     },
     "output_type": "display_data"
    }
   ],
   "source": [
    "plt.barh(w_barh['winery'], w_barh['price'])\n",
    "plt.xlabel('price')\n",
    "plt.ylabel('winery')\n",
    "plt.title('Winery in Spain')\n",
    "plt.text(800, 0.5, 'Highest Price Winery in Spain')\n",
    "plt.grid()"
   ]
  },
  {
   "cell_type": "code",
   "execution_count": null,
   "metadata": {},
   "outputs": [],
   "source": []
  },
  {
   "cell_type": "code",
   "execution_count": 143,
   "metadata": {},
   "outputs": [],
   "source": [
    "df = pd.read_csv('winemag-data_first150k.csv')"
   ]
  },
  {
   "cell_type": "code",
   "execution_count": 144,
   "metadata": {},
   "outputs": [],
   "source": [
    "import seaborn as sns"
   ]
  },
  {
   "cell_type": "code",
   "execution_count": 145,
   "metadata": {},
   "outputs": [
    {
     "data": {
      "text/plain": [
       "<seaborn.axisgrid.PairGrid at 0x1ede1ba4c10>"
      ]
     },
     "execution_count": 145,
     "metadata": {},
     "output_type": "execute_result"
    },
    {
     "data": {
      "image/png": "[encoded data removed]",
      "text/plain": [
       "<Figure size 360x360 with 6 Axes>"
      ]
     },
     "metadata": {
      "needs_background": "light"
     },
     "output_type": "display_data"
    }
   ],
   "source": [
    "sns_plot = sns.pairplot(\n",
    "    df[['points', 'price']])\n",
    "sns_plot\n",
    "# зависимость цены от рейтинга  "
   ]
  },
  {
   "cell_type": "code",
   "execution_count": null,
   "metadata": {},
   "outputs": [],
   "source": []
  },
  {
   "cell_type": "code",
   "execution_count": 146,
   "metadata": {},
   "outputs": [
    {
     "data": {
      "text/plain": [
       "<matplotlib.axes._subplots.AxesSubplot at 0x1ede3be8880>"
      ]
     },
     "execution_count": 146,
     "metadata": {},
     "output_type": "execute_result"
    },
    {
     "data": {
      "image/png": "[encoded data removed]",
      "text/plain": [
       "<Figure size 432x288 with 1 Axes>"
      ]
     },
     "metadata": {
      "needs_background": "light"
     },
     "output_type": "display_data"
    }
   ],
   "source": [
    "df.points.hist()"
   ]
  },
  {
   "cell_type": "code",
   "execution_count": 147,
   "metadata": {},
   "outputs": [
    {
     "data": {
      "text/plain": [
       "Text(0, 0.5, 'designation')"
      ]
     },
     "execution_count": 147,
     "metadata": {},
     "output_type": "execute_result"
    },
    {
     "data": {
      "image/png": "[encoded data removed]",
      "text/plain": [
       "<Figure size 432x288 with 1 Axes>"
      ]
     },
     "metadata": {
      "needs_background": "light"
     },
     "output_type": "display_data"
    }
   ],
   "source": [
    "ax = df.points.hist()\n",
    "ax.set_title('Wine rating')\n",
    "ax.set_xlabel('points')\n",
    "ax.set_ylabel('designation')\n",
    "#вино в зависимости от рейтинга (points)"
   ]
  },
  {
   "cell_type": "code",
   "execution_count": 148,
   "metadata": {},
   "outputs": [
    {
     "data": {
      "text/plain": [
       "<matplotlib.axes._subplots.AxesSubplot at 0x1ede47a4100>"
      ]
     },
     "execution_count": 148,
     "metadata": {},
     "output_type": "execute_result"
    },
    {
     "data": {
      "image/png": "[encoded data removed]",
      "text/plain": [
       "<Figure size 432x288 with 1 Axes>"
      ]
     },
     "metadata": {
      "needs_background": "light"
     },
     "output_type": "display_data"
    }
   ],
   "source": [
    "sns.distplot(df.points)"
   ]
  },
  {
   "cell_type": "code",
   "execution_count": null,
   "metadata": {},
   "outputs": [],
   "source": []
  },
  {
   "cell_type": "code",
   "execution_count": 149,
   "metadata": {},
   "outputs": [
    {
     "data": {
      "text/html": [
       "<div>\n",
       "<style scoped>\n",
       "    .dataframe tbody tr th:only-of-type {\n",
       "        vertical-align: middle;\n",
       "    }\n",
       "\n",
       "    .dataframe tbody tr th {\n",
       "        vertical-align: top;\n",
       "    }\n",
       "\n",
       "    .dataframe thead th {\n",
       "        text-align: right;\n",
       "    }\n",
       "</style>\n",
       "<table border=\"1\" class=\"dataframe\">\n",
       "  <thead>\n",
       "    <tr style=\"text-align: right;\">\n",
       "      <th></th>\n",
       "      <th>Unnamed: 0</th>\n",
       "      <th>Date</th>\n",
       "      <th>AveragePrice</th>\n",
       "      <th>Total Volume</th>\n",
       "      <th>4046</th>\n",
       "      <th>4225</th>\n",
       "      <th>4770</th>\n",
       "      <th>Total Bags</th>\n",
       "      <th>Small Bags</th>\n",
       "      <th>Large Bags</th>\n",
       "      <th>XLarge Bags</th>\n",
       "      <th>type</th>\n",
       "      <th>year</th>\n",
       "      <th>region</th>\n",
       "    </tr>\n",
       "  </thead>\n",
       "  <tbody>\n",
       "    <tr>\n",
       "      <th>0</th>\n",
       "      <td>0</td>\n",
       "      <td>2015-12-27</td>\n",
       "      <td>1.33</td>\n",
       "      <td>64236.62</td>\n",
       "      <td>1036.74</td>\n",
       "      <td>54454.85</td>\n",
       "      <td>48.16</td>\n",
       "      <td>8696.87</td>\n",
       "      <td>8603.62</td>\n",
       "      <td>93.25</td>\n",
       "      <td>0.0</td>\n",
       "      <td>conventional</td>\n",
       "      <td>2015</td>\n",
       "      <td>Albany</td>\n",
       "    </tr>\n",
       "    <tr>\n",
       "      <th>1</th>\n",
       "      <td>1</td>\n",
       "      <td>2015-12-20</td>\n",
       "      <td>1.35</td>\n",
       "      <td>54876.98</td>\n",
       "      <td>674.28</td>\n",
       "      <td>44638.81</td>\n",
       "      <td>58.33</td>\n",
       "      <td>9505.56</td>\n",
       "      <td>9408.07</td>\n",
       "      <td>97.49</td>\n",
       "      <td>0.0</td>\n",
       "      <td>conventional</td>\n",
       "      <td>2015</td>\n",
       "      <td>Albany</td>\n",
       "    </tr>\n",
       "    <tr>\n",
       "      <th>2</th>\n",
       "      <td>2</td>\n",
       "      <td>2015-12-13</td>\n",
       "      <td>0.93</td>\n",
       "      <td>118220.22</td>\n",
       "      <td>794.70</td>\n",
       "      <td>109149.67</td>\n",
       "      <td>130.50</td>\n",
       "      <td>8145.35</td>\n",
       "      <td>8042.21</td>\n",
       "      <td>103.14</td>\n",
       "      <td>0.0</td>\n",
       "      <td>conventional</td>\n",
       "      <td>2015</td>\n",
       "      <td>Albany</td>\n",
       "    </tr>\n",
       "    <tr>\n",
       "      <th>3</th>\n",
       "      <td>3</td>\n",
       "      <td>2015-12-06</td>\n",
       "      <td>1.08</td>\n",
       "      <td>78992.15</td>\n",
       "      <td>1132.00</td>\n",
       "      <td>71976.41</td>\n",
       "      <td>72.58</td>\n",
       "      <td>5811.16</td>\n",
       "      <td>5677.40</td>\n",
       "      <td>133.76</td>\n",
       "      <td>0.0</td>\n",
       "      <td>conventional</td>\n",
       "      <td>2015</td>\n",
       "      <td>Albany</td>\n",
       "    </tr>\n",
       "    <tr>\n",
       "      <th>4</th>\n",
       "      <td>4</td>\n",
       "      <td>2015-11-29</td>\n",
       "      <td>1.28</td>\n",
       "      <td>51039.60</td>\n",
       "      <td>941.48</td>\n",
       "      <td>43838.39</td>\n",
       "      <td>75.78</td>\n",
       "      <td>6183.95</td>\n",
       "      <td>5986.26</td>\n",
       "      <td>197.69</td>\n",
       "      <td>0.0</td>\n",
       "      <td>conventional</td>\n",
       "      <td>2015</td>\n",
       "      <td>Albany</td>\n",
       "    </tr>\n",
       "  </tbody>\n",
       "</table>\n",
       "</div>"
      ],
      "text/plain": [
       "   Unnamed: 0        Date  AveragePrice  Total Volume     4046       4225  \\\n",
       "0           0  2015-12-27          1.33      64236.62  1036.74   54454.85   \n",
       "1           1  2015-12-20          1.35      54876.98   674.28   44638.81   \n",
       "2           2  2015-12-13          0.93     118220.22   794.70  109149.67   \n",
       "3           3  2015-12-06          1.08      78992.15  1132.00   71976.41   \n",
       "4           4  2015-11-29          1.28      51039.60   941.48   43838.39   \n",
       "\n",
       "     4770  Total Bags  Small Bags  Large Bags  XLarge Bags          type  \\\n",
       "0   48.16     8696.87     8603.62       93.25          0.0  conventional   \n",
       "1   58.33     9505.56     9408.07       97.49          0.0  conventional   \n",
       "2  130.50     8145.35     8042.21      103.14          0.0  conventional   \n",
       "3   72.58     5811.16     5677.40      133.76          0.0  conventional   \n",
       "4   75.78     6183.95     5986.26      197.69          0.0  conventional   \n",
       "\n",
       "   year  region  \n",
       "0  2015  Albany  \n",
       "1  2015  Albany  \n",
       "2  2015  Albany  \n",
       "3  2015  Albany  \n",
       "4  2015  Albany  "
      ]
     },
     "execution_count": 149,
     "metadata": {},
     "output_type": "execute_result"
    }
   ],
   "source": [
    "df = pd.read_csv('avocado.csv')\n",
    "df.head()"
   ]
  },
  {
   "cell_type": "code",
   "execution_count": 150,
   "metadata": {},
   "outputs": [
    {
     "data": {
      "text/html": [
       "<div>\n",
       "<style scoped>\n",
       "    .dataframe tbody tr th:only-of-type {\n",
       "        vertical-align: middle;\n",
       "    }\n",
       "\n",
       "    .dataframe tbody tr th {\n",
       "        vertical-align: top;\n",
       "    }\n",
       "\n",
       "    .dataframe thead th {\n",
       "        text-align: right;\n",
       "    }\n",
       "</style>\n",
       "<table border=\"1\" class=\"dataframe\">\n",
       "  <thead>\n",
       "    <tr style=\"text-align: right;\">\n",
       "      <th></th>\n",
       "      <th>Total Volume</th>\n",
       "      <th>4046</th>\n",
       "      <th>4225</th>\n",
       "      <th>4770</th>\n",
       "    </tr>\n",
       "    <tr>\n",
       "      <th>region</th>\n",
       "      <th></th>\n",
       "      <th></th>\n",
       "      <th></th>\n",
       "      <th></th>\n",
       "    </tr>\n",
       "  </thead>\n",
       "  <tbody>\n",
       "    <tr>\n",
       "      <th>Albany</th>\n",
       "      <td>1.606780e+07</td>\n",
       "      <td>616539.64</td>\n",
       "      <td>12715968.39</td>\n",
       "      <td>55037.33</td>\n",
       "    </tr>\n",
       "    <tr>\n",
       "      <th>Atlanta</th>\n",
       "      <td>8.860512e+07</td>\n",
       "      <td>49387501.37</td>\n",
       "      <td>10551856.51</td>\n",
       "      <td>105248.39</td>\n",
       "    </tr>\n",
       "    <tr>\n",
       "      <th>BaltimoreWashington</th>\n",
       "      <td>1.347139e+08</td>\n",
       "      <td>12051801.74</td>\n",
       "      <td>83142216.44</td>\n",
       "      <td>4213755.07</td>\n",
       "    </tr>\n",
       "    <tr>\n",
       "      <th>Boise</th>\n",
       "      <td>1.441319e+07</td>\n",
       "      <td>6766593.57</td>\n",
       "      <td>1170048.64</td>\n",
       "      <td>1077134.29</td>\n",
       "    </tr>\n",
       "    <tr>\n",
       "      <th>Boston</th>\n",
       "      <td>9.727398e+07</td>\n",
       "      <td>1688178.20</td>\n",
       "      <td>72406314.13</td>\n",
       "      <td>1684015.70</td>\n",
       "    </tr>\n",
       "  </tbody>\n",
       "</table>\n",
       "</div>"
      ],
      "text/plain": [
       "                     Total Volume         4046         4225        4770\n",
       "region                                                                 \n",
       "Albany               1.606780e+07    616539.64  12715968.39    55037.33\n",
       "Atlanta              8.860512e+07  49387501.37  10551856.51   105248.39\n",
       "BaltimoreWashington  1.347139e+08  12051801.74  83142216.44  4213755.07\n",
       "Boise                1.441319e+07   6766593.57   1170048.64  1077134.29\n",
       "Boston               9.727398e+07   1688178.20  72406314.13  1684015.70"
      ]
     },
     "execution_count": 150,
     "metadata": {},
     "output_type": "execute_result"
    }
   ],
   "source": [
    "df1 = df[['Total Volume', '4046', '4225', '4770'] + ['region']]\\\n",
    "    .groupby('region').sum()\n",
    "df1.head()"
   ]
  },
  {
   "cell_type": "code",
   "execution_count": 151,
   "metadata": {},
   "outputs": [
    {
     "data": {
      "text/plain": [
       "<matplotlib.axes._subplots.AxesSubplot at 0x1ede6175520>"
      ]
     },
     "execution_count": 151,
     "metadata": {},
     "output_type": "execute_result"
    },
    {
     "data": {
      "image/png": "[encoded data removed]",
      "text/plain": [
       "<Figure size 432x288 with 1 Axes>"
      ]
     },
     "metadata": {
      "needs_background": "light"
     },
     "output_type": "display_data"
    }
   ],
   "source": [
    "df1.plot()\n",
    "#как изменяется общее количество проданных авокадо, Общее количество проданных авокадо с PLU 4046, 4225, 4770 в зависимости от региона"
   ]
  },
  {
   "cell_type": "code",
   "execution_count": 156,
   "metadata": {},
   "outputs": [
    {
     "data": {
      "text/html": [
       "<div>\n",
       "<style scoped>\n",
       "    .dataframe tbody tr th:only-of-type {\n",
       "        vertical-align: middle;\n",
       "    }\n",
       "\n",
       "    .dataframe tbody tr th {\n",
       "        vertical-align: top;\n",
       "    }\n",
       "\n",
       "    .dataframe thead th {\n",
       "        text-align: right;\n",
       "    }\n",
       "</style>\n",
       "<table border=\"1\" class=\"dataframe\">\n",
       "  <thead>\n",
       "    <tr style=\"text-align: right;\">\n",
       "      <th></th>\n",
       "      <th>AveragePrice</th>\n",
       "    </tr>\n",
       "    <tr>\n",
       "      <th>year</th>\n",
       "      <th></th>\n",
       "    </tr>\n",
       "  </thead>\n",
       "  <tbody>\n",
       "    <tr>\n",
       "      <th>2015</th>\n",
       "      <td>7723.94</td>\n",
       "    </tr>\n",
       "    <tr>\n",
       "      <th>2016</th>\n",
       "      <td>7517.80</td>\n",
       "    </tr>\n",
       "    <tr>\n",
       "      <th>2017</th>\n",
       "      <td>8669.56</td>\n",
       "    </tr>\n",
       "    <tr>\n",
       "      <th>2018</th>\n",
       "      <td>1746.40</td>\n",
       "    </tr>\n",
       "  </tbody>\n",
       "</table>\n",
       "</div>"
      ],
      "text/plain": [
       "      AveragePrice\n",
       "year              \n",
       "2015       7723.94\n",
       "2016       7517.80\n",
       "2017       8669.56\n",
       "2018       1746.40"
      ]
     },
     "execution_count": 156,
     "metadata": {},
     "output_type": "execute_result"
    }
   ],
   "source": [
    "df2 = df[['AveragePrice'] + ['year']]\\\n",
    "    .groupby('year').sum()\n",
    "df2.head()"
   ]
  },
  {
   "cell_type": "code",
   "execution_count": 157,
   "metadata": {},
   "outputs": [
    {
     "data": {
      "text/plain": [
       "<matplotlib.axes._subplots.AxesSubplot at 0x1ede7500640>"
      ]
     },
     "execution_count": 157,
     "metadata": {},
     "output_type": "execute_result"
    },
    {
     "data": {
      "image/png": "[encoded data removed]",
      "text/plain": [
       "<Figure size 432x288 with 1 Axes>"
      ]
     },
     "metadata": {
      "needs_background": "light"
     },
     "output_type": "display_data"
    }
   ],
   "source": [
    "df2.plot()\n",
    "#как изменяется средяя цена на авокадо в зависимости от года"
   ]
  },
  {
   "cell_type": "code",
   "execution_count": 163,
   "metadata": {},
   "outputs": [
    {
     "data": {
      "image/png": "[encoded data removed]",
      "text/plain": [
       "<Figure size 432x288 with 1 Axes>"
      ]
     },
     "metadata": {
      "needs_background": "light"
     },
     "output_type": "display_data"
    }
   ],
   "source": [
    "reg = df.region.value_counts().sort_values(ascending = False).head(4).index.values\n",
    "reg\n",
    "ax = sns.boxplot(x=\"region\", y=\"Total Volume\", \n",
    "            data=df[df.region.isin(reg)])\n",
    "#сравнили общее количество проданных авокадо в 4 разных регионах"
   ]
  },
  {
   "cell_type": "code",
   "execution_count": null,
   "metadata": {},
   "outputs": [],
   "source": []
  }
 ],
 "metadata": {
  "kernelspec": {
   "display_name": "Python 3",
   "language": "python",
   "name": "python3"
  },
  "language_info": {
   "codemirror_mode": {
    "name": "ipython",
    "version": 3
   },
   "file_extension": ".py",
   "mimetype": "text/x-python",
   "name": "python",
   "nbconvert_exporter": "python",
   "pygments_lexer": "ipython3",
   "version": "3.8.3"
  }
 },
 "nbformat": 4,
 "nbformat_minor": 4
}
