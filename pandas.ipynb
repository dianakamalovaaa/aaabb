{
 "cells": [
  {
   "cell_type": "code",
   "execution_count": 35,
   "metadata": {},
   "outputs": [],
   "source": [
    "import pandas as pd"
   ]
  },
  {
   "cell_type": "code",
   "execution_count": 36,
   "metadata": {},
   "outputs": [
    {
     "data": {
      "text/html": [
       "<div>\n",
       "<style scoped>\n",
       "    .dataframe tbody tr th:only-of-type {\n",
       "        vertical-align: middle;\n",
       "    }\n",
       "\n",
       "    .dataframe tbody tr th {\n",
       "        vertical-align: top;\n",
       "    }\n",
       "\n",
       "    .dataframe thead th {\n",
       "        text-align: right;\n",
       "    }\n",
       "</style>\n",
       "<table border=\"1\" class=\"dataframe\">\n",
       "  <thead>\n",
       "    <tr style=\"text-align: right;\">\n",
       "      <th></th>\n",
       "      <th>movieId</th>\n",
       "      <th>title</th>\n",
       "      <th>genres;;</th>\n",
       "    </tr>\n",
       "  </thead>\n",
       "  <tbody>\n",
       "    <tr>\n",
       "      <th>0</th>\n",
       "      <td>1</td>\n",
       "      <td>Toy Story (1995)</td>\n",
       "      <td>Adventure|Animation|Children|Comedy|Fantasy;;</td>\n",
       "    </tr>\n",
       "    <tr>\n",
       "      <th>1</th>\n",
       "      <td>2</td>\n",
       "      <td>Jumanji (1995)</td>\n",
       "      <td>Adventure|Children|Fantasy;;</td>\n",
       "    </tr>\n",
       "    <tr>\n",
       "      <th>2</th>\n",
       "      <td>3</td>\n",
       "      <td>Grumpier Old Men (1995)</td>\n",
       "      <td>Comedy|Romance;;</td>\n",
       "    </tr>\n",
       "    <tr>\n",
       "      <th>3</th>\n",
       "      <td>4</td>\n",
       "      <td>Waiting to Exhale (1995)</td>\n",
       "      <td>Comedy|Drama|Romance;;</td>\n",
       "    </tr>\n",
       "    <tr>\n",
       "      <th>4</th>\n",
       "      <td>5</td>\n",
       "      <td>Father of the Bride Part II (1995)</td>\n",
       "      <td>Comedy;;</td>\n",
       "    </tr>\n",
       "  </tbody>\n",
       "</table>\n",
       "</div>"
      ],
      "text/plain": [
       "  movieId                               title  \\\n",
       "0       1                    Toy Story (1995)   \n",
       "1       2                      Jumanji (1995)   \n",
       "2       3             Grumpier Old Men (1995)   \n",
       "3       4            Waiting to Exhale (1995)   \n",
       "4       5  Father of the Bride Part II (1995)   \n",
       "\n",
       "                                        genres;;  \n",
       "0  Adventure|Animation|Children|Comedy|Fantasy;;  \n",
       "1                   Adventure|Children|Fantasy;;  \n",
       "2                               Comedy|Romance;;  \n",
       "3                         Comedy|Drama|Romance;;  \n",
       "4                                       Comedy;;  "
      ]
     },
     "execution_count": 36,
     "metadata": {},
     "output_type": "execute_result"
    }
   ],
   "source": [
    "rat = pd.read_csv('ratings1.csv')\n",
    "mov = pd.read_csv('movies1.csv')\n",
    "mov.head()"
   ]
  },
  {
   "cell_type": "code",
   "execution_count": 37,
   "metadata": {},
   "outputs": [
    {
     "name": "stdout",
     "output_type": "stream",
     "text": [
      "         userId  movieId  rating   timestamp\n",
      "40            3     2028     5.0   945141611\n",
      "61            4       47     5.0  1113767129\n",
      "107           4      296     5.0  1113767056\n",
      "109           4      316     5.0  1113767120\n",
      "111           4      318     5.0  1113766505\n",
      "...         ...      ...     ...         ...\n",
      "1048385   10531      329     5.0   829504624\n",
      "1048387   10531      342     5.0   829504624\n",
      "1048476   10532     2959     5.0  1475013981\n",
      "1048494   10532     4011     5.0  1475011948\n",
      "1048554   10532    32587     5.0  1475015407\n",
      "\n",
      "[151917 rows x 4 columns]\n"
     ]
    }
   ],
   "source": [
    "rat_sort = rat [ (rat['rating'] == 5.0)]\n",
    "ratt = rat_sort\n",
    "print(ratt)"
   ]
  },
  {
   "cell_type": "code",
   "execution_count": 38,
   "metadata": {},
   "outputs": [
    {
     "data": {
      "text/plain": [
       "318    1737\n",
       "296    1390\n",
       "356    1202\n",
       "260    1149\n",
       "593    1099\n",
       "Name: movieId, dtype: int64"
      ]
     },
     "execution_count": 38,
     "metadata": {},
     "output_type": "execute_result"
    }
   ],
   "source": [
    "ratt['movieId'].value_counts().head()"
   ]
  },
  {
   "cell_type": "code",
   "execution_count": 34,
   "metadata": {},
   "outputs": [
    {
     "data": {
      "text/plain": [
       "314    Shawshank Redemption, The (1994)\n",
       "Name: title, dtype: object"
      ]
     },
     "execution_count": 34,
     "metadata": {},
     "output_type": "execute_result"
    }
   ],
   "source": [
    "mov[mov['movieId'] == 318]['title'].head()"
   ]
  },
  {
   "cell_type": "code",
   "execution_count": null,
   "metadata": {},
   "outputs": [],
   "source": []
  },
  {
   "cell_type": "code",
   "execution_count": 93,
   "metadata": {},
   "outputs": [
    {
     "data": {
      "text/html": [
       "<div>\n",
       "<style scoped>\n",
       "    .dataframe tbody tr th:only-of-type {\n",
       "        vertical-align: middle;\n",
       "    }\n",
       "\n",
       "    .dataframe tbody tr th {\n",
       "        vertical-align: top;\n",
       "    }\n",
       "\n",
       "    .dataframe thead th {\n",
       "        text-align: right;\n",
       "    }\n",
       "</style>\n",
       "<table border=\"1\" class=\"dataframe\">\n",
       "  <thead>\n",
       "    <tr style=\"text-align: right;\">\n",
       "      <th></th>\n",
       "      <th>country</th>\n",
       "      <th>year</th>\n",
       "      <th>quantity</th>\n",
       "      <th>category</th>\n",
       "    </tr>\n",
       "  </thead>\n",
       "  <tbody>\n",
       "    <tr>\n",
       "      <th>0</th>\n",
       "      <td>Austria</td>\n",
       "      <td>1996</td>\n",
       "      <td>5.0</td>\n",
       "      <td>1</td>\n",
       "    </tr>\n",
       "    <tr>\n",
       "      <th>1</th>\n",
       "      <td>Austria</td>\n",
       "      <td>1995</td>\n",
       "      <td>17.0</td>\n",
       "      <td>1</td>\n",
       "    </tr>\n",
       "    <tr>\n",
       "      <th>2</th>\n",
       "      <td>Belgium</td>\n",
       "      <td>2014</td>\n",
       "      <td>0.0</td>\n",
       "      <td>1</td>\n",
       "    </tr>\n",
       "    <tr>\n",
       "      <th>3</th>\n",
       "      <td>Belgium</td>\n",
       "      <td>2013</td>\n",
       "      <td>0.0</td>\n",
       "      <td>1</td>\n",
       "    </tr>\n",
       "    <tr>\n",
       "      <th>4</th>\n",
       "      <td>Belgium</td>\n",
       "      <td>2012</td>\n",
       "      <td>35.0</td>\n",
       "      <td>1</td>\n",
       "    </tr>\n",
       "  </tbody>\n",
       "</table>\n",
       "</div>"
      ],
      "text/plain": [
       "   country  year  quantity  category\n",
       "0  Austria  1996       5.0         1\n",
       "1  Austria  1995      17.0         1\n",
       "2  Belgium  2014       0.0         1\n",
       "3  Belgium  2013       0.0         1\n",
       "4  Belgium  2012      35.0         1"
      ]
     },
     "execution_count": 93,
     "metadata": {},
     "output_type": "execute_result"
    }
   ],
   "source": [
    "a = pd.read_csv('power.csv')\n",
    "a.head()"
   ]
  },
  {
   "cell_type": "code",
   "execution_count": 94,
   "metadata": {},
   "outputs": [
    {
     "data": {
      "text/plain": [
       "240580.0"
      ]
     },
     "execution_count": 94,
     "metadata": {},
     "output_type": "execute_result"
    }
   ],
   "source": [
    "filtered_countries = a[ (a['country']=='Latvia') | (a['country']=='Lithuania') | (a['country']=='Estonia') ]\n",
    "filtered_categories = filtered_countries[ (filtered_countries['category']==4) | (filtered_countries['category']==12) | (filtered_countries['category']==21) ]\n",
    "filtered_years = filtered_categories[ (filtered_categories['year'] >= 2005) & (filtered_categories['year'] <= 2010)]\n",
    "filtered_quatities = filtered_years[ (filtered_years['quantity'] >= 0)]\n",
    "filtered_quatities.head()\n",
    "filtered_quatities['quantity'].sum()"
   ]
  },
  {
   "cell_type": "code",
   "execution_count": null,
   "metadata": {},
   "outputs": [],
   "source": []
  },
  {
   "cell_type": "code",
   "execution_count": 85,
   "metadata": {},
   "outputs": [],
   "source": [
    "page_url ='http://www.kinometro.ru/box'"
   ]
  },
  {
   "cell_type": "code",
   "execution_count": 86,
   "metadata": {},
   "outputs": [],
   "source": [
    "df = pd.read_html(page_url, attrs = {'class': 'box_full'}, encoding='utf-8')"
   ]
  },
  {
   "cell_type": "code",
   "execution_count": 87,
   "metadata": {},
   "outputs": [
    {
     "data": {
      "text/plain": [
       "[    Unnamed: 0 пред. неделя  \\\n",
       " 0          1.0            -   \n",
       " 1          2.0            2   \n",
       " 2          3.0            1   \n",
       " 3          4.0            3   \n",
       " 4          5.0            -   \n",
       " 5          6.0            4   \n",
       " 6          7.0            -   \n",
       " 7          8.0            7   \n",
       " 8          9.0            -   \n",
       " 9         10.0            5   \n",
       " 10        11.0           16   \n",
       " 11        12.0            -   \n",
       " 12        13.0            -   \n",
       " 13        14.0            9   \n",
       " 14        15.0            8   \n",
       " 15        16.0            6   \n",
       " 16        17.0           11   \n",
       " 17        18.0           13   \n",
       " 18        19.0            -   \n",
       " 19        20.0           14   \n",
       " 20         NaN          NaN   \n",
       " 21         NaN          NaN   \n",
       " \n",
       "                                              название   дистрибьютор  \\\n",
       " 0                                           СТРЕЛЬЦОВ             CP   \n",
       " 1                                          ДОВОДTenet            CAO   \n",
       " 2                     ПОСЛЕ. ГЛАВА 2After We Collided            VLG   \n",
       " 3                                          МУЛАНMulan            WDS   \n",
       " 4                    БЕЛКА И СТРЕЛКА. КАРИБСКАЯ ТАЙНА            CRP   \n",
       " 5                  ЗАКЛЯТЬЕ. ДОМ 3232 Malasana Street            EXP   \n",
       " 6               КЛАУСТРОФОБЫ: КВЕСТ В МОСКВЕFollow Me            NKI   \n",
       " 7                               ГРЕНЛАНДИЯ 1Greenland             MG   \n",
       " 8                                      ГНЕЗДОThe Nest            CPF   \n",
       " 9                                АНТЕБЕЛЛУМAntebellum             CP   \n",
       " 10  BTS: РАЗБЕЙ ТИШИНУ. ФИЛЬМ 2BTS: Break the Silence           COOL   \n",
       " 11                            СУПЕР КРЕЙЗИSuper Crazy             WP   \n",
       " 12                      СДЕЛАНО В ИТАЛИИMade in Italy             BN   \n",
       " 13                                  ВРАТАРЬ ГАЛАКТИКИ            NKI   \n",
       " 14                           НОВЫЕ МУТАНТЫNew Mutants            WDS   \n",
       " 15                     КО-КО-КО! 3Turu, the Wacky Hen             MG   \n",
       " 16     МУЛЬТ В КИНО. ВЫПУСК № 117. ЧТО-ТО НОВЕНЬКОЕ 4            MVK   \n",
       " 17               ТРОЛЛИ. МИРОВОЙ ТУРTrolls World Tour            UPI   \n",
       " 18       КИПЕЛОВ. КОНЦЕРТ С СИМФОНИЧЕСКИМ ОРКЕСТРОМ 5           CARO   \n",
       " 19  ВОЛШЕБНОЕ ЗЕРКАЛО, ИЛИ ДВОЙНЫЕ НЕПРИЯТНОСТИ 6D...           KNLG   \n",
       " 20                                      ИТОГО ТОП-10:  ИТОГО ТОП-10:   \n",
       " 21                                      ИТОГО ТОП-20:  ИТОГО ТОП-20:   \n",
       " \n",
       "              нед.            к/т            касса уикенда  \\\n",
       " 0               1           1619  114 895 627  $1 504 854   \n",
       " 1               4      1402(-87)     66 416 922  $869 901   \n",
       " 2               2       1193(25)     43 117 614  $564 736   \n",
       " 3               3       1374(-1)     39 357 775  $515 491   \n",
       " 4               1           1550     24 735 909  $323 980   \n",
       " 5               1       576(150)     19 602 932  $256 751   \n",
       " 6               1            434       7 017 708  $91 915   \n",
       " 7               6      254(-105)       4 738 703  $62 066   \n",
       " 8               1            171       3 372 179  $44 167   \n",
       " 9               2         796(5)       3 314 576  $43 413   \n",
       " 10              3        53(-41)       3 137 357  $41 092   \n",
       " 11              1            302       2 649 970  $34 708   \n",
       " 12              1            215       2 170 204  $28 424   \n",
       " 13              5      230(-704)       1 709 537  $22 391   \n",
       " 14              4      233(-494)       1 680 632  $22 012   \n",
       " 15              2      547(-247)       1 295 017  $16 962   \n",
       " 16              4      417(-111)       1 049 664  $13 748   \n",
       " 17             28        90(-23)          692 345  $9 068   \n",
       " 18              1             41          662 530  $8 678   \n",
       " 19              2        133(-7)          582 325  $7 627   \n",
       " 20  ИТОГО ТОП-10:  ИТОГО ТОП-10:    326 569 945$4 277 275   \n",
       " 21  ИТОГО ТОП-20:  ИТОГО ТОП-20:    342 199 526$4 481 985   \n",
       " \n",
       "                 общая касса нараб.уикенда зрительуикенда общийзритель  \\\n",
       " 0   114 895 627  $1 504 854  70 967  $929        419 565      419 565   \n",
       " 1   720 663 112  $9 757 150  47 373  $641        212 023    2 314 349   \n",
       " 2   236 433 361  $3 155 390  36 142  $482        171 191      944 974   \n",
       " 3   329 048 056  $4 325 596  28 645  $377        156 002    1 249 706   \n",
       " 4      24 735 909  $323 980  15 959  $209        119 175      119 175   \n",
       " 5      43 103 218  $564 548  34 033  $446         71 298      164 657   \n",
       " 6        7 017 708  $91 915  16 170  $212         25 897       25 897   \n",
       " 7   150 267 130  $2 051 989  18 656  $255         19 278      569 688   \n",
       " 8        3 421 925  $44 819  19 720  $258          8 007        8 131   \n",
       " 9      19 792 346  $264 144    4 164  $56         13 020       76 968   \n",
       " 10     26 806 026  $352 386  59 195  $778          7 609       63 317   \n",
       " 11       2 735 542  $35 829   8 775  $115          9 735       10 027   \n",
       " 12       2 182 725  $28 588  10 094  $132          6 514        6 555   \n",
       " 13  107 002 004  $1 416 495    7 433  $98          8 087      477 260   \n",
       " 14   82 819 420  $1 121 303    7 213  $98          6 767      333 172   \n",
       " 15     10 263 188  $136 970    2 367  $32          7 236       51 119   \n",
       " 16      7 425 010  $100 528    2 517  $34          8 814       60 206   \n",
       " 17  143 491 969  $1 858 464   7 693  $100          3 447      687 679   \n",
       " 18          662 530  $8 678  16 159  $212          1 903        1 903   \n",
       " 19       1 952 883  $26 063    4 378  $58          2 782        9 317   \n",
       " 20                      NaN           NaN      1 215 456      -20,87%   \n",
       " 21                      NaN           NaN      1 278 350      -19,07%   \n",
       " \n",
       "     падение цена билетауикенда Сеансы(уикенд / тотал)  \n",
       " 0         -         273,8$3,59           36 90136 901  \n",
       " 1   -44,69%         313,3$4,24                      -  \n",
       " 2   -70,06%         251,9$3,36           11 70352 438  \n",
       " 3   -56,16%         252,3$3,32                      -  \n",
       " 4         -         207,6$2,72                      -  \n",
       " 5         -         274,9$3,60                      -  \n",
       " 6         -         271,0$3,55                      -  \n",
       " 7   -37,50%         245,8$3,36            1 14442 572  \n",
       " 8         -         421,2$5,52                      -  \n",
       " 9   -72,52%         254,6$3,40            3 74419 656  \n",
       " 10  274,07%         412,3$5,42               2171 936  \n",
       " 11        -         272,2$3,57                      -  \n",
       " 12        -         333,2$4,36             1 5001 502  \n",
       " 13  -74,22%         211,4$2,80                      -  \n",
       " 14  -75,02%         248,4$3,36                      -  \n",
       " 15  -83,23%         179,0$2,39             1 1886 332  \n",
       " 16  -44,23%         119,1$1,61            1 49210 212  \n",
       " 17  -44,50%         200,9$2,60              40992 551  \n",
       " 18        -         348,2$4,56                      -  \n",
       " 19  -49,47%         209,3$2,79               3341 026  \n",
       " 20  -20,87%                NaN                    NaN  \n",
       " 21  -19,07%                NaN                    NaN  ]"
      ]
     },
     "execution_count": 87,
     "metadata": {},
     "output_type": "execute_result"
    }
   ],
   "source": [
    "df[:3]"
   ]
  },
  {
   "cell_type": "code",
   "execution_count": null,
   "metadata": {},
   "outputs": [],
   "source": []
  }
 ],
 "metadata": {
  "kernelspec": {
   "display_name": "Python 3",
   "language": "python",
   "name": "python3"
  },
  "language_info": {
   "codemirror_mode": {
    "name": "ipython",
    "version": 3
   },
   "file_extension": ".py",
   "mimetype": "text/x-python",
   "name": "python",
   "nbconvert_exporter": "python",
   "pygments_lexer": "ipython3",
   "version": "3.8.3"
  }
 },
 "nbformat": 4,
 "nbformat_minor": 4
}
