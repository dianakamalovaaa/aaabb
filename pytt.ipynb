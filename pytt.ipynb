{
 "cells": [
  {
   "cell_type": "code",
   "execution_count": 28,
   "metadata": {},
   "outputs": [
    {
     "name": "stdout",
     "output_type": "stream",
     "text": [
      "Фраза 2 длиннее фразы 1\n"
     ]
    }
   ],
   "source": [
    "phrase_1 = '640Кб должно хватить для любых задач. Билл Гейтс (по легенде)'\n",
    "phrase_2 = 'Насколько проще было бы писать программы, если бы не заказчики'\n",
    "if len(phrase_1) < len(phrase_2):\n",
    "    print('Фраза 2 длиннее фразы 1')\n",
    "elif len(phrase_1) > len(phrase_2):\n",
    "    print('Фраза 1 длиннее фразы 2')\n",
    " "
   ]
  },
  {
   "cell_type": "code",
   "execution_count": 36,
   "metadata": {},
   "outputs": [
    {
     "name": "stdout",
     "output_type": "stream",
     "text": [
      "Фраза 1 и фраза 2 равной длины\n"
     ]
    }
   ],
   "source": [
    "phrase_1 = 'Насколько проще было бы писать программы, если бы не заказчики'\n",
    "phrase_2 = 'Насколько проще было бы писать программы, если бы не заказчики'\n",
    "if len(phrase_1) > len(phrase_2):\n",
    "    print (\"Фраза 1 длиннее фразы 2\")\n",
    "elif len(phrase_1) < len(phrase_2):\n",
    "    print('Фраза 2 длиннее фразы 1')\n",
    "else:\n",
    "    print(\"Фраза 1 и фраза 2 равной длины\")"
   ]
  },
  {
   "cell_type": "code",
   "execution_count": 37,
   "metadata": {},
   "outputs": [
    {
     "name": "stdout",
     "output_type": "stream",
     "text": [
      "Фраза 1 длиннее фразы 2\n"
     ]
    }
   ],
   "source": [
    "phrase_1 = 'Насколько проще было бы писать программы, если бы не заказчики'\n",
    "phrase_2 = '640Кб должно хватить для любых задач. Билл Гейтс (по легенде)'\n",
    "if len(phrase_1) < len(phrase_2):\n",
    "    print('Фраза 1 короче фразы 2')\n",
    "elif len(phrase_1) > len(phrase_2):\n",
    "    print('Фраза 1 длиннее фразы 2')"
   ]
  },
  {
   "cell_type": "code",
   "execution_count": 41,
   "metadata": {},
   "outputs": [
    {
     "name": "stdout",
     "output_type": "stream",
     "text": [
      "Введите год=2019\n",
      "Обычный год\n"
     ]
    }
   ],
   "source": [
    "year = int(input(\"Введите год=\"))\n",
    "if (year % 4 == 0) and (year % 100 != 0) or (year % 400 == 0):\n",
    "    print('Високосный год')\n",
    "else:\n",
    "    print('Обычный год')"
   ]
  },
  {
   "cell_type": "code",
   "execution_count": 42,
   "metadata": {},
   "outputs": [
    {
     "name": "stdout",
     "output_type": "stream",
     "text": [
      "Введите год=2020\n",
      "Високосный год\n"
     ]
    }
   ],
   "source": [
    "year = int(input(\"Введите год=\"))\n",
    "if (year % 4 == 0) and (year % 100 != 0) or (year % 400 == 0):\n",
    "    print('Високосный год')\n",
    "else:\n",
    "    print('Обычный год')"
   ]
  },
  {
   "cell_type": "code",
   "execution_count": 43,
   "metadata": {},
   "outputs": [
    {
     "name": "stdout",
     "output_type": "stream",
     "text": [
      "Введите ваш день рождения:20\n",
      "Введите ваш месяц рождения:3\n",
      "Ваш знак зодиака-Рыбы\n"
     ]
    }
   ],
   "source": [
    "date=int(input(\"Введите ваш день рождения:\"))\n",
    "\n",
    "month=int(input(\"Введите ваш месяц рождения:\"))\n",
    "\n",
    "if (date>=21 and date<=31 and month==1) or( month==2 and date>=1 and date<=18):\n",
    "\n",
    "   print(\"Ваш знак зодиака-Водолей\")\n",
    "\n",
    "elif (date>=19 and date<=29 and month==2) or( month==3 and date>=1 and date<=20):\n",
    "\n",
    "   print(\"Ваш знак зодиака-Рыбы\")\n",
    "\n",
    "elif (date>=21 and date<=31 and month==3) or( month==4 and date>=1 and date<=19):\n",
    "\n",
    "   print(\"Ваш знак зодиака-Овен\")\n",
    "\n",
    "elif (date>=20 and date<=30 and month==4) or( month==5 and date>=1 and date<=20):\n",
    "\n",
    "   print(\"Ваш знак зодиака-Телец\")\n",
    "\n",
    "elif (date>=21 and date<=31 and month==5) or( month==6 and date>=1 and date<=21):\n",
    "\n",
    "   print(\"Ваш знак зодиака-Близнецы\")\n",
    "\n",
    "elif (date>=22 and date<=30 and month==6) or( month==7 and date>=1 and date<=22):\n",
    "\n",
    "   print(\"Ваш знак зодиака-Рак\")\n",
    "\n",
    "elif (date>=23 and date<=31 and month==7) or( month==8 and date>=1 and date<=22):\n",
    "\n",
    "   print(\"Ваш знак зодиака-Лев\")\n",
    "\n",
    "elif (date>=23 and date<=31 and month==8) or( month==9 and date>=1 and date<=22):\n",
    "\n",
    "   print(\"Ваш знак зодиака-Дева\")\n",
    "\n",
    "elif (date>=23 and date<=30 and month==9) or( month==10 and date>=1 and date<=23):\n",
    "\n",
    "   print(\"Ваш знак зодиака-Весы\")\n",
    "\n",
    "elif (date>=24 and date<=31 and month==10) or( month==11 and date>=1 and date<=22):\n",
    "\n",
    "   print(\"Ваш знак зодиака-Скорпион\")\n",
    "\n",
    "elif (date>=23 and date<=30 and month==11) or( month==12 and date>=1 and date<=21):\n",
    "\n",
    "   print(\"Ваш знак зодиака-Стрелец\")\n",
    "\n",
    "elif (date>=22 and date<=31 and month==12) or( month==1 and date>=1 and date<=20):\n",
    "\n",
    "   print(\"Ваш знак зодиака-Козерог\")"
   ]
  },
  {
   "cell_type": "code",
   "execution_count": 51,
   "metadata": {},
   "outputs": [
    {
     "name": "stdout",
     "output_type": "stream",
     "text": [
      "Коробка №3\n"
     ]
    }
   ],
   "source": [
    "width = 10\n",
    "length = 195\n",
    "height = 5\n",
    "if width < 15 and length < 15 and  height < 15:\n",
    "    print('Коробка №1')\n",
    "elif (15 < width > 50) and (15 < length > 50) and  (15 < height > 50):\n",
    "    print('Коробка №2')\n",
    "elif length > 200:\n",
    "    print('Упаковка для лыж')\n",
    "else:\n",
    "    print(\"Коробка №3\")"
   ]
  },
  {
   "cell_type": "code",
   "execution_count": 55,
   "metadata": {},
   "outputs": [
    {
     "name": "stdout",
     "output_type": "stream",
     "text": [
      "Введите номер билета123321\n",
      "Счастливый билет\n"
     ]
    }
   ],
   "source": [
    "number = input(\"Введите номер билета\")\n",
    "if sum([int(char) for char in number[:3]]) == sum([int(char) for char in number[-3:]]):\n",
    "    print('Счастливый билет')\n",
    "else:\n",
    "    print('Несчастливый билет')\n"
   ]
  },
  {
   "cell_type": "code",
   "execution_count": 59,
   "metadata": {},
   "outputs": [
    {
     "name": "stdout",
     "output_type": "stream",
     "text": [
      "Введите название фигуры =прямоугольник\n",
      "Введите сторону a =4\n",
      "Введите сторону b =6\n",
      "24.0\n"
     ]
    }
   ],
   "source": [
    "import math   \n",
    "fig=str(input(\"Введите название фигуры =\")) \n",
    "if fig==\"круг\":      \n",
    "    r=float(input(\"Введите радиус r =\"))      \n",
    "    S=math.pi*(r**2)   \n",
    "    print(S)\n",
    "elif fig==\"треугольник\":       \n",
    "    a=float(input(\"Введите сторону a =\"))      \n",
    "    b=float(input(\"Введите сторону b =\"))      \n",
    "    c=float(input(\"Введите сторону c =\"))      \n",
    "    p=(a+b+c)/2      \n",
    "    S=math.sqrt((p*(p-a)*(p-b)*(p-c)))  \n",
    "    print(S)\n",
    "elif fig==\"прямоугольник\":       \n",
    "    a=float(input(\"Введите сторону a =\"))      \n",
    "    b=float(input(\"Введите сторону b =\"))      \n",
    "    S=a*b  \n",
    "    print(S)"
   ]
  },
  {
   "cell_type": "code",
   "execution_count": null,
   "metadata": {},
   "outputs": [],
   "source": []
  }
 ],
 "metadata": {
  "kernelspec": {
   "display_name": "Python 3",
   "language": "python",
   "name": "python3"
  },
  "language_info": {
   "codemirror_mode": {
    "name": "ipython",
    "version": 3
   },
   "file_extension": ".py",
   "mimetype": "text/x-python",
   "name": "python",
   "nbconvert_exporter": "python",
   "pygments_lexer": "ipython3",
   "version": "3.8.3"
  }
 },
 "nbformat": 4,
 "nbformat_minor": 4
}
